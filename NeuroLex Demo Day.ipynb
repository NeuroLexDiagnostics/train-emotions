{
 "cells": [
  {
   "cell_type": "markdown",
   "metadata": {
    "slideshow": {
     "slide_type": "skip"
    }
   },
   "source": [
    "Run the cell below to start a slideshow of the following notebook."
   ]
  },
  {
   "cell_type": "code",
   "execution_count": null,
   "metadata": {
    "slideshow": {
     "slide_type": "skip"
    }
   },
   "outputs": [],
   "source": [
    "!jupyter nbconvert NeuroLex\\ Demo\\ Day.ipynb --to slides --post serve"
   ]
  },
  {
   "cell_type": "markdown",
   "metadata": {
    "slideshow": {
     "slide_type": "slide"
    }
   },
   "source": [
    "# NeuroLex Demo Day \n",
    "# train-emotions\n",
    "## Speech emotion analysis\n",
    "\n",
    "### Lucas Lyon\n",
    "lucas.lyon@colorado.edu\n"
   ]
  },
  {
   "cell_type": "markdown",
   "metadata": {
    "slideshow": {
     "slide_type": "subslide"
    }
   },
   "source": [
    "# Code available at https://github.com/NeuroLexDiagnostics/train-emotions\n",
    "\n",
    "# Data available at https://drive.google.com/file/d/1aWr0AsvYm2okmirbUqy4Ql2xQgEuyDzf/view?usp=sharing"
   ]
  },
  {
   "cell_type": "markdown",
   "metadata": {
    "slideshow": {
     "slide_type": "slide"
    }
   },
   "source": [
    "# Introduction"
   ]
  },
  {
   "cell_type": "markdown",
   "metadata": {
    "slideshow": {
     "slide_type": "fragment"
    }
   },
   "source": [
    "## Aim of this demo:\n",
    "\n",
    "### - to demonstrate the progress made in detecting one of seven emotions in an audio file (angry, disgust, fear, happy, neutral, sad, or surprise)\n",
    "\n",
    "### - to describe successes and failures encountered during the NeuroLex Fellowship."
   ]
  },
  {
   "cell_type": "markdown",
   "metadata": {
    "slideshow": {
     "slide_type": "slide"
    }
   },
   "source": [
    "# Problem Statement / Motivation"
   ]
  },
  {
   "cell_type": "markdown",
   "metadata": {
    "slideshow": {
     "slide_type": "fragment"
    }
   },
   "source": [
    "\n",
    "## NeuroLex lacks a way to extract emotion data from speech\n",
    "\n",
    "\n",
    "- NeuroLex isn't providing its customers with the entire picture\n",
    "- Customers are ** missing out on emotion speech data ** that can inform on sentiment"
   ]
  },
  {
   "cell_type": "markdown",
   "metadata": {
    "slideshow": {
     "slide_type": "fragment"
    }
   },
   "source": [
    "## NeuroLex customers could benefit from additional data\n",
    "\n",
    "- Emotion data could give customers **a greater understanding of how survey takers are feeling** beyond just word choice."
   ]
  },
  {
   "cell_type": "markdown",
   "metadata": {
    "slideshow": {
     "slide_type": "slide"
    }
   },
   "source": [
    "# Benefits for NeuroLex\n",
    "\n",
    "- Ability to offer customers **more data**\n",
    "- More data allows NeuroLex to **increase revenue** without requiring new inputs (we already have the speech files)"
   ]
  },
  {
   "cell_type": "markdown",
   "metadata": {
    "slideshow": {
     "slide_type": "slide"
    }
   },
   "source": [
    "# Benefits for customers\n",
    "\n",
    "- More data == **more monetization opportunities**\n",
    "- More data  == **more effective marketing**\n",
    "- More data == **more knowledge about customer sentiment**"
   ]
  },
  {
   "cell_type": "markdown",
   "metadata": {
    "slideshow": {
     "slide_type": "slide"
    }
   },
   "source": [
    "# Previous Work"
   ]
  },
  {
   "cell_type": "markdown",
   "metadata": {
    "slideshow": {
     "slide_type": "fragment"
    }
   },
   "source": [
    "## Text-based analysis:\n",
    "- IBM Watson Speech to Text and Tone:\n",
    "    - Converts audio to text, then analyzes \n",
    "    \n",
    "## Audio-based analysis\n",
    "- PRAAT: doing phonetics by computer:\n",
    "    - Indirect measure of emotion given an audio file\n",
    "    - Pitch, frequency, duration, etc\n",
    "- MIRtoolbox:\n",
    "    - Focused on musical features, like tonality, rhythm, structures, etc\n",
    "- Work by Jim Schwoebel\n",
    "    - Used a YouTube scraper to pull audio samples from playlists\n",
    "    - Offered huge amounts of data\n",
    "\n"
   ]
  },
  {
   "cell_type": "markdown",
   "metadata": {
    "slideshow": {
     "slide_type": "slide"
    }
   },
   "source": [
    "# Current Work"
   ]
  },
  {
   "cell_type": "markdown",
   "metadata": {
    "slideshow": {
     "slide_type": "subslide"
    }
   },
   "source": [
    "## Tools Used\n"
   ]
  },
  {
   "cell_type": "markdown",
   "metadata": {
    "slideshow": {
     "slide_type": "fragment"
    }
   },
   "source": [
    "### - Jupyter Notebooks\n",
    "### - LibROSA\n",
    "### - Keras \n",
    "### - Pandas\n",
    "### - Matplotlib"
   ]
  },
  {
   "cell_type": "markdown",
   "metadata": {
    "slideshow": {
     "slide_type": "subslide"
    }
   },
   "source": [
    "## Datasets"
   ]
  },
  {
   "cell_type": "markdown",
   "metadata": {
    "slideshow": {
     "slide_type": "subslide"
    }
   },
   "source": [
    "# 1. CREMA-D: Crowd-sourced Emotional Multimodal Actors Dataset\n",
    "#### *Available in NeuroLexTrainingData.zip in directory /training_audio_files/AudioWAV*\n",
    "#### *Available for download at https://github.com/CheyneyComputerScience/CREMA-D*\n",
    "### 7442 files\n",
    "### 91 actors, 48 males and 43 females\n",
    "### 20-74 years old\n",
    "### Variety of races and ethnicities: African America, Asian, Caucasian, Hispanic, and Unspecified\n",
    "### 95% of clips have more than 7 ratings (from a total of 2443 raters)\n"
   ]
  },
  {
   "cell_type": "markdown",
   "metadata": {
    "slideshow": {
     "slide_type": "subslide"
    }
   },
   "source": [
    "# 2. SAVEE: Surrey Audio-Visual Expressed Emotion Database\n",
    "\n",
    "#### *Available in NeuroLexTrainingData.zip in directory /training_audio_files/AudioData*\n",
    "#### *Available for download at http://kahlan.eps.surrey.ac.uk/savee/Download.html*\n",
    "\n",
    "### 480 files\n",
    "\n",
    "### 4 male actors\n",
    "\n",
    "### No race or age data"
   ]
  },
  {
   "cell_type": "markdown",
   "metadata": {
    "slideshow": {
     "slide_type": "subslide"
    }
   },
   "source": [
    "# 3. TESS: Toronto emotional speech set\n",
    "\n",
    "#### *Available in NeuroLexTrainingData.zip in directory /training_audio_files/angry, /training_audio_files/disgust, /training_audio_files/fear, etc*\n",
    "\n",
    "#### *Available for download at https://tspace.library.utoronto.ca/handle/1807/24487*\n",
    "\n",
    "### 2800 files\n",
    "\n",
    "### 200 unique words spoken\n",
    "\n",
    "### 2 female actresses aged 26 and 64 years\n",
    "\n",
    "### Both actresses speak English as their first language, are university educated, and have musical training\n",
    "\n"
   ]
  },
  {
   "cell_type": "markdown",
   "metadata": {
    "slideshow": {
     "slide_type": "subslide"
    }
   },
   "source": [
    "# 4. RAVDESS: Ryerson Audio-Visual Database of Emotional Speech and Song\n",
    "#### *Available in NeuroLexTrainingData.zip in directory /Audio*\n",
    "#### *Available for download at https://zenodo.org/record/1188976*\n",
    "\n",
    "### 7356 files\n",
    "\n",
    "### 12 males and 12 females\n",
    "\n",
    "### Neutral North American accent"
   ]
  },
  {
   "cell_type": "markdown",
   "metadata": {
    "slideshow": {
     "slide_type": "subslide"
    }
   },
   "source": [
    "# 5. Emo-DB: Berlin Database of Emotional Speech\n",
    "#### *Available in NeuroLexTrainingData.zip in directory /training_audio_files/emodb*\n",
    "#### *Available for download at http://emodb.bilderbar.info/start.html*\n",
    "\n",
    "### German recordings\n",
    "\n",
    "### 535 files\n",
    "\n",
    "### 10 actors\n",
    "\n",
    "### No demographic data provided\n",
    "\n",
    "### Incorporated least-heavily among this demo's attempts to build a robust model"
   ]
  },
  {
   "cell_type": "markdown",
   "metadata": {
    "slideshow": {
     "slide_type": "slide"
    }
   },
   "source": [
    "# Results"
   ]
  },
  {
   "cell_type": "code",
   "execution_count": 1,
   "metadata": {
    "slideshow": {
     "slide_type": "skip"
    }
   },
   "outputs": [],
   "source": [
    "from IPython.core.display import Image, display"
   ]
  },
  {
   "cell_type": "markdown",
   "metadata": {
    "slideshow": {
     "slide_type": "slide"
    }
   },
   "source": [
    "# Attempt -1 Accuracy"
   ]
  },
  {
   "cell_type": "code",
   "execution_count": 2,
   "metadata": {
    "slideshow": {
     "slide_type": "fragment"
    }
   },
   "outputs": [
    {
     "data": {
      "image/png": "[encoded data removed]",
      "text/plain": [
       "<IPython.core.display.Image object>"
      ]
     },
     "execution_count": 2,
     "metadata": {},
     "output_type": "execute_result"
    }
   ],
   "source": [
    "Image(filename=\"../Report/Graphs/AccuraciesAndLosses/Attempt-1Acc.png\")"
   ]
  },
  {
   "cell_type": "markdown",
   "metadata": {
    "slideshow": {
     "slide_type": "fragment"
    }
   },
   "source": [
    "## Final Accuracy values of approximately 8% (slightly worse than guessing @ 14%)"
   ]
  },
  {
   "cell_type": "markdown",
   "metadata": {
    "slideshow": {
     "slide_type": "subslide"
    }
   },
   "source": [
    "# Attempt 0 Accuracy"
   ]
  },
  {
   "cell_type": "code",
   "execution_count": 3,
   "metadata": {
    "slideshow": {
     "slide_type": "fragment"
    }
   },
   "outputs": [
    {
     "data": {
      "image/png": "[encoded data removed]",
      "text/plain": [
       "<IPython.core.display.Image object>"
      ]
     },
     "execution_count": 3,
     "metadata": {},
     "output_type": "execute_result"
    }
   ],
   "source": [
    "Image(filename=\"../Report/Graphs/AccuraciesAndLosses/Attempt0Acc.png\")"
   ]
  },
  {
   "cell_type": "markdown",
   "metadata": {
    "slideshow": {
     "slide_type": "fragment"
    }
   },
   "source": [
    "## Final accuracy values of approximately 9% (again, worse than guessing)"
   ]
  },
  {
   "cell_type": "markdown",
   "metadata": {
    "slideshow": {
     "slide_type": "subslide"
    }
   },
   "source": [
    "# Attempt 1 Accuracy"
   ]
  },
  {
   "cell_type": "code",
   "execution_count": 4,
   "metadata": {
    "slideshow": {
     "slide_type": "fragment"
    }
   },
   "outputs": [
    {
     "data": {
      "image/png": "[encoded data removed]",
      "text/plain": [
       "<IPython.core.display.Image object>"
      ]
     },
     "execution_count": 4,
     "metadata": {},
     "output_type": "execute_result"
    }
   ],
   "source": [
    "Image(filename=\"../Report/Graphs/AccuraciesAndLosses/Attempt1Acc.png\")"
   ]
  },
  {
   "cell_type": "markdown",
   "metadata": {
    "slideshow": {
     "slide_type": "fragment"
    }
   },
   "source": [
    "## Final accuracy values of approximately 10% (again, worse than guessing)"
   ]
  },
  {
   "cell_type": "markdown",
   "metadata": {
    "slideshow": {
     "slide_type": "subslide"
    }
   },
   "source": [
    "# Attempt 2 Accuracy"
   ]
  },
  {
   "cell_type": "code",
   "execution_count": 5,
   "metadata": {
    "slideshow": {
     "slide_type": "fragment"
    }
   },
   "outputs": [
    {
     "data": {
      "image/png": "[encoded data removed]",
      "text/plain": [
       "<IPython.core.display.Image object>"
      ]
     },
     "execution_count": 5,
     "metadata": {},
     "output_type": "execute_result"
    }
   ],
   "source": [
    "Image(filename=\"../Report/Graphs/AccuraciesAndLosses/Attempt2Acc.png\")"
   ]
  },
  {
   "cell_type": "markdown",
   "metadata": {
    "slideshow": {
     "slide_type": "fragment"
    }
   },
   "source": [
    "## Final accuracy values of approximately 11% (again, worse than guessing)"
   ]
  },
  {
   "cell_type": "markdown",
   "metadata": {
    "slideshow": {
     "slide_type": "subslide"
    }
   },
   "source": [
    "# Attempt 3 Accuracy"
   ]
  },
  {
   "cell_type": "code",
   "execution_count": 6,
   "metadata": {
    "slideshow": {
     "slide_type": "fragment"
    }
   },
   "outputs": [
    {
     "data": {
      "image/png": "[encoded data removed]",
      "text/plain": [
       "<IPython.core.display.Image object>"
      ]
     },
     "execution_count": 6,
     "metadata": {},
     "output_type": "execute_result"
    }
   ],
   "source": [
    "Image(filename=\"../Report/Graphs/AccuraciesAndLosses/Attempt3Acc.png\")"
   ]
  },
  {
   "cell_type": "markdown",
   "metadata": {
    "slideshow": {
     "slide_type": "fragment"
    }
   },
   "source": [
    "## Final Accuracy values of approximately 27% (getting better)"
   ]
  },
  {
   "cell_type": "markdown",
   "metadata": {
    "slideshow": {
     "slide_type": "slide"
    }
   },
   "source": [
    "# Summary of accuracies and losses for all models tested"
   ]
  },
  {
   "cell_type": "markdown",
   "metadata": {
    "slideshow": {
     "slide_type": "fragment"
    }
   },
   "source": [
    "| Model | Accuracy | Loss | Approximate training time |\n",
    "| - | - | - | - |\n",
    "| v_-1 | 8% | 1.75 | 133 minutes |\n",
    "| v_0 | 9% | 2.3 | 121 minutes |\n",
    "| v_1 | 11% | 2.1 | 166 minutes |\n",
    "| v_2 | 11% | 1.65 | 45 minutes |\n",
    "| v_3 | 26.41% | 1.72 | 103 minutes |\n",
    "| v_4 | 22.98% | 13548.02 | 105 minutes |\n",
    "| v_5 | 87.36% | 0.3627 | 28 minutes |\n",
    "| v_6 | 53.76% | 1.3007 | 22.5 minutes |\n",
    "| v_7 | 70% | 1.64 | 83 minutes |\n",
    "| v_8 | 70% | 1.64 | 83 minutes |\n",
    "| v_9 | 51.09% | 2.2915 | 92.5 minutes |"
   ]
  },
  {
   "cell_type": "markdown",
   "metadata": {
    "slideshow": {
     "slide_type": "slide"
    }
   },
   "source": [
    "# What happened with Model v5?"
   ]
  },
  {
   "cell_type": "markdown",
   "metadata": {
    "slideshow": {
     "slide_type": "fragment"
    }
   },
   "source": [
    "## 1. New Data\n",
    "- v5 uses Toronto Emotional Speech Set, SAVEE, and CREMA-D"
   ]
  },
  {
   "cell_type": "markdown",
   "metadata": {
    "slideshow": {
     "slide_type": "fragment"
    }
   },
   "source": [
    "# 2. Simpler Architecture\n",
    "- v5 uses a slimmer architecture with 50% fewer convolutions"
   ]
  },
  {
   "cell_type": "markdown",
   "metadata": {
    "slideshow": {
     "slide_type": "subslide"
    }
   },
   "source": [
    "# v5 Architecture"
   ]
  },
  {
   "cell_type": "code",
   "execution_count": null,
   "metadata": {
    "slideshow": {
     "slide_type": "fragment"
    }
   },
   "outputs": [],
   "source": [
    "model = Sequential()\n",
    "\n",
    "model.add(Conv1D(32, 5, padding='same',input_shape=(216,1)))\n",
    "model.add(Activation('relu'))\n",
    "model.add(MaxPooling1D(pool_size=2))\n",
    "\n",
    "model.add(Conv1D(64, 5, padding='same'))\n",
    "model.add(Activation('relu'))\n",
    "model.add(MaxPooling1D(pool_size=2))\n",
    "\n",
    "model.add(Dropout(0.25))\n",
    "\n",
    "model.add(Flatten())\n",
    "\n",
    "model.add(Dense(128))\n",
    "model.add(Activation('relu'))\n",
    "\n",
    "model.add(Dropout(0.5))\n",
    "\n",
    "model.add(Dense(num_classes))\n",
    "model.add(Activation('softmax'))"
   ]
  },
  {
   "cell_type": "markdown",
   "metadata": {
    "slideshow": {
     "slide_type": "slide"
    }
   },
   "source": [
    "# Validation"
   ]
  },
  {
   "cell_type": "markdown",
   "metadata": {
    "slideshow": {
     "slide_type": "subslide"
    }
   },
   "source": [
    "## 1. Load the model"
   ]
  },
  {
   "cell_type": "code",
   "execution_count": 12,
   "metadata": {
    "slideshow": {
     "slide_type": "fragment"
    }
   },
   "outputs": [],
   "source": [
    "import librosa\n",
    "import numpy as np\n",
    "from keras.models  import load_model\n",
    "model = load_model(\"model_v5.h5\")"
   ]
  },
  {
   "cell_type": "markdown",
   "metadata": {
    "slideshow": {
     "slide_type": "subslide"
    }
   },
   "source": [
    "## 2. Load and transform the wav file "
   ]
  },
  {
   "cell_type": "code",
   "execution_count": 13,
   "metadata": {
    "slideshow": {
     "slide_type": "fragment"
    }
   },
   "outputs": [],
   "source": [
    "#load the file\n",
    "X, sample_rate = librosa.load(\"test_sample.wav\", res_type='kaiser_fast',duration=2.5,sr=22050*2,offset=0.5)\n",
    "\n",
    "#convert array into numpy array\n",
    "sample_rate = np.array(sample_rate)\n",
    "\n",
    "#calculate MFCC mean\n",
    "mfccs = np.mean(librosa.feature.mfcc(y=X, sr=sample_rate, n_mfcc=13),axis=0)\n",
    "\n",
    "#store in temporary variable\n",
    "test_sample_features = mfccs\n",
    "\n",
    "#pad and reshape the MFCC feature extraction for input into the model\n",
    "test_sample_features = np.pad(test_sample_features, (0, 216-test_sample_features.shape[0]), 'constant')\n",
    "test_sample_features = test_sample_features.reshape(1, 216, 1)"
   ]
  },
  {
   "cell_type": "markdown",
   "metadata": {
    "slideshow": {
     "slide_type": "subslide"
    }
   },
   "source": [
    "## 3. Input MFCC feature extraction into the model for a prediction"
   ]
  },
  {
   "cell_type": "code",
   "execution_count": 14,
   "metadata": {},
   "outputs": [
    {
     "name": "stdout",
     "output_type": "stream",
     "text": [
      "[4]\n"
     ]
    }
   ],
   "source": [
    "# 0 angry\n",
    "# 1 fear\n",
    "# 2 disgust\n",
    "# 3 happy\n",
    "# 4 sad\n",
    "# 5 neutral\n",
    "# 6 surprise\n",
    "\n",
    "prediction = model.predict_classes(test_sample_features)\n",
    "print(prediction)"
   ]
  },
  {
   "cell_type": "markdown",
   "metadata": {
    "slideshow": {
     "slide_type": "slide"
    }
   },
   "source": [
    "# Comparison of results to goal\n"
   ]
  },
  {
   "cell_type": "markdown",
   "metadata": {
    "slideshow": {
     "slide_type": "fragment"
    }
   },
   "source": [
    "### One goal of the demo was to beat prior models' performances. This demo produced \"model_v5.h5\". \"all_emotions.pickle\" was created by Jim Schwoebel."
   ]
  },
  {
   "cell_type": "markdown",
   "metadata": {
    "slideshow": {
     "slide_type": "fragment"
    }
   },
   "source": [
    "| Model | Feature embedding | Accuracy | Modeltype|\n",
    "| --- | --- | --- | --- |\n",
    "| all_emotions.pickle | character, pos, polarity, onset, rhythm, spectral | 28.75% | knn |\n",
    "| model_v5.h5 | spectral | 87.36% | Keras Sequential Neural Network |"
   ]
  },
  {
   "cell_type": "markdown",
   "metadata": {
    "slideshow": {
     "slide_type": "fragment"
    }
   },
   "source": [
    "\n",
    "### With an increase in accuracy of 58.61%, the Keras Sequential model thoroughly out-performs NeuroLex's current all-emotion detection."
   ]
  },
  {
   "cell_type": "markdown",
   "metadata": {
    "slideshow": {
     "slide_type": "slide"
    }
   },
   "source": [
    "# This demo's impact"
   ]
  },
  {
   "cell_type": "markdown",
   "metadata": {
    "slideshow": {
     "slide_type": "subslide"
    }
   },
   "source": [
    "## on myself"
   ]
  },
  {
   "cell_type": "markdown",
   "metadata": {
    "slideshow": {
     "slide_type": "fragment"
    }
   },
   "source": [
    "### - First foray in ML\n",
    "### - Potential career field\n",
    "    - there's so many applications!\n",
    "### - ML isn't a silver bullet\n",
    "    - there are limitations"
   ]
  },
  {
   "cell_type": "markdown",
   "metadata": {
    "slideshow": {
     "slide_type": "subslide"
    }
   },
   "source": [
    "## on NeuroLex"
   ]
  },
  {
   "cell_type": "markdown",
   "metadata": {
    "slideshow": {
     "slide_type": "fragment"
    }
   },
   "source": [
    "### - potential new source of data for customers\n",
    "### - potential new source of revenue "
   ]
  },
  {
   "cell_type": "markdown",
   "metadata": {
    "slideshow": {
     "slide_type": "slide"
    }
   },
   "source": [
    "# Thanks for an amazing experience, NeuroLex team!\n",
    "### I hope to keep doing awesome work with all of you"
   ]
  },
  {
   "cell_type": "code",
   "execution_count": null,
   "metadata": {
    "slideshow": {
     "slide_type": "skip"
    }
   },
   "outputs": [],
   "source": []
  },
  {
   "cell_type": "code",
   "execution_count": null,
   "metadata": {},
   "outputs": [],
   "source": []
  },
  {
   "cell_type": "code",
   "execution_count": null,
   "metadata": {},
   "outputs": [],
   "source": []
  }
 ],
 "metadata": {
  "celltoolbar": "Slideshow",
  "kernelspec": {
   "display_name": "Python 3",
   "language": "python",
   "name": "python3"
  },
  "language_info": {
   "codemirror_mode": {
    "name": "ipython",
    "version": 3
   },
   "file_extension": ".py",
   "mimetype": "text/x-python",
   "name": "python",
   "nbconvert_exporter": "python",
   "pygments_lexer": "ipython3",
   "version": "3.6.5"
  }
 },
 "nbformat": 4,
 "nbformat_minor": 2
}
